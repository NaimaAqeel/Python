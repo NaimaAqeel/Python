{
 "cells": [
  {
   "cell_type": "code",
   "execution_count": 2,
   "id": "d7e9f4d3",
   "metadata": {},
   "outputs": [
    {
     "name": "stdout",
     "output_type": "stream",
     "text": [
      "[0. 0. 0. 0. 0. 0. 0. 0. 0. 0.]\n"
     ]
    }
   ],
   "source": [
    "#Array creation\n",
    "# 1. Create a numpy array of size 10, filled with zeros.\n",
    "\n",
    "import numpy as np\n",
    "zeros_array = np.zeros(10)\n",
    "print(zeros_array)"
   ]
  },
  {
   "cell_type": "code",
   "execution_count": 7,
   "id": "c2d0f5d1",
   "metadata": {},
   "outputs": [
    {
     "name": "stdout",
     "output_type": "stream",
     "text": [
      "[10 11 12 13 14 15 16 17 18 19 20 21 22 23 24 25 26 27 28 29 30 31 32 33\n",
      " 34 35 36 37 38 39 40 41 42 43 44 45 46 47 48 49]\n"
     ]
    }
   ],
   "source": [
    "# 2. Create a numpy array with values ranging from 10 to 49\n",
    "\n",
    "import numpy as np\n",
    "array =np.arange(10,50)\n",
    "print(array)"
   ]
  },
  {
   "cell_type": "code",
   "execution_count": 11,
   "id": "2e287fb8",
   "metadata": {},
   "outputs": [
    {
     "name": "stdout",
     "output_type": "stream",
     "text": [
      "[[1 1]\n",
      " [1 1]]\n"
     ]
    }
   ],
   "source": [
    "# 3. Create a numpy matrix of 2*2 integers, filled with ones.\n",
    "\n",
    "import numpy as np\n",
    "matrix_int =  np.ones((2, 2), dtype=int)\n",
    "print(matrix_int)"
   ]
  },
  {
   "cell_type": "code",
   "execution_count": 12,
   "id": "ca5129ea",
   "metadata": {},
   "outputs": [
    {
     "name": "stdout",
     "output_type": "stream",
     "text": [
      "[[1. 1.]\n",
      " [1. 1.]\n",
      " [1. 1.]]\n"
     ]
    }
   ],
   "source": [
    "# 4. Create a numpy matrix of 3*2 float numbers, filled with ones.\n",
    "\n",
    "import numpy as np\n",
    "matrix_float = np.ones((3,2), dtype = float)\n",
    "print(matrix_float)"
   ]
  },
  {
   "cell_type": "code",
   "execution_count": 13,
   "id": "84b2263f",
   "metadata": {},
   "outputs": [
    {
     "name": "stdout",
     "output_type": "stream",
     "text": [
      "[[1 1 1]\n",
      " [1 1 1]]\n"
     ]
    }
   ],
   "source": [
    "# 5. Given the X numpy array, create a new numpy array with the same shape and type as X, filled with ones.\n",
    "\n",
    "import numpy as np\n",
    "X = np.array([[1, 2, 3], [4, 5, 6]])\n",
    "ones_like_X = np.ones_like(X)\n",
    "\n",
    "print(ones_like_X)"
   ]
  },
  {
   "cell_type": "code",
   "execution_count": 16,
   "id": "e33bbfb4",
   "metadata": {},
   "outputs": [
    {
     "name": "stdout",
     "output_type": "stream",
     "text": [
      "[[0 0 0]\n",
      " [0 0 0]]\n"
     ]
    }
   ],
   "source": [
    "# 6. Given the X numpy matrix, create a new numpy matrix with the same shape and type as X, filled with zeros.\n",
    "\n",
    "import numpy as np\n",
    "X = np.array([[1, 2, 3], [4, 5, 6]])\n",
    "ones_like_X = np.zeros_like(X)\n",
    "print(ones_like_X)"
   ]
  },
  {
   "cell_type": "code",
   "execution_count": 19,
   "id": "e35be187",
   "metadata": {},
   "outputs": [
    {
     "name": "stdout",
     "output_type": "stream",
     "text": [
      "[[5 5 5 5]\n",
      " [5 5 5 5]\n",
      " [5 5 5 5]\n",
      " [5 5 5 5]]\n"
     ]
    }
   ],
   "source": [
    "# 7. Create a numpy matrix of 4*4 integers, filled with fives.\n",
    "import numpy as np\n",
    "matrix_int =  np.full((4, 4), 5, dtype=int)\n",
    "print(matrix_int)\n"
   ]
  },
  {
   "cell_type": "code",
   "execution_count": 22,
   "id": "0388ecdc",
   "metadata": {},
   "outputs": [
    {
     "name": "stdout",
     "output_type": "stream",
     "text": [
      "[[7 7 7 7]\n",
      " [7 7 7 7]\n",
      " [7 7 7 7]\n",
      " [7 7 7 7]]\n"
     ]
    }
   ],
   "source": [
    "# 8. Given the X numpy matrix, create a new numpy matrix with the same shape and type as X, filled with sevens.\n",
    "\n",
    "import numpy as np\n",
    "matrix_seven = np.full((4,4), 7, dtype=int)\n",
    "print(matrix_seven)"
   ]
  },
  {
   "cell_type": "code",
   "execution_count": 24,
   "id": "cb5dda24",
   "metadata": {},
   "outputs": [
    {
     "name": "stdout",
     "output_type": "stream",
     "text": [
      "[[1. 0. 0.]\n",
      " [0. 1. 0.]\n",
      " [0. 0. 1.]]\n"
     ]
    }
   ],
   "source": [
    "# 9. Create a 3*3 identity numpy matrix with ones on the diagonal and zeros elsewhere.\n",
    "\n",
    "import numpy as np\n",
    "matrix_identity = np. eye(3)\n",
    "print(matrix_identity)"
   ]
  },
  {
   "cell_type": "code",
   "execution_count": 25,
   "id": "938185b7",
   "metadata": {},
   "outputs": [
    {
     "name": "stdout",
     "output_type": "stream",
     "text": [
      "[8 7 5]\n"
     ]
    }
   ],
   "source": [
    "# 10. Create a numpy array, filled with 3 random integer values between 1 and 10.\n",
    "\n",
    "import numpy as np\n",
    "random_integers = np.random.randint(1, 11, size=3)\n",
    "\n",
    "print(random_integers)\n"
   ]
  },
  {
   "cell_type": "code",
   "execution_count": 29,
   "id": "35729616",
   "metadata": {},
   "outputs": [
    {
     "name": "stdout",
     "output_type": "stream",
     "text": [
      "[[[0.47853042 0.20596566 0.33191572]\n",
      "  [0.36669207 0.22110751 0.4209349 ]\n",
      "  [0.74627233 0.65932049 0.02945756]]\n",
      "\n",
      " [[0.44082051 0.62113234 0.82466586]\n",
      "  [0.29280737 0.56459477 0.37990626]\n",
      "  [0.89147709 0.21026058 0.02677481]]\n",
      "\n",
      " [[0.00991157 0.33673266 0.62944807]\n",
      "  [0.52704157 0.98942843 0.3994968 ]\n",
      "  [0.2829861  0.21257234 0.30414099]]]\n"
     ]
    }
   ],
   "source": [
    "# 11. Create a 3*3*3 numpy matrix, filled with random float values.\n",
    "\n",
    "import numpy as np\n",
    "random_float = np.random.rand(3, 3, 3)\n",
    "print(random_float)"
   ]
  },
  {
   "cell_type": "code",
   "execution_count": 33,
   "id": "f5173610",
   "metadata": {},
   "outputs": [
    {
     "name": "stdout",
     "output_type": "stream",
     "text": [
      "[ 1  2  3  4  5  6  7  8  9 10]\n"
     ]
    }
   ],
   "source": [
    "# 12. Create a numpy array with numbers from 1 to 10\n",
    "\n",
    "import numpy as np\n",
    "array = np. arange (1,11)\n",
    "print(array)"
   ]
  },
  {
   "cell_type": "code",
   "execution_count": 34,
   "id": "2676914b",
   "metadata": {},
   "outputs": [
    {
     "name": "stdout",
     "output_type": "stream",
     "text": [
      "[1 3 5 7 9]\n"
     ]
    }
   ],
   "source": [
    "# 13. Create a numpy array with the odd numbers between 1 to 10\n",
    "\n",
    "import numpy as np\n",
    "odd_array = np. arange(1, 11, step=2)\n",
    "print(odd_array)"
   ]
  },
  {
   "cell_type": "code",
   "execution_count": 36,
   "id": "9977d5ce",
   "metadata": {},
   "outputs": [
    {
     "name": "stdout",
     "output_type": "stream",
     "text": [
      "[10  9  8  7  6  5  4  3  2  1]\n"
     ]
    }
   ],
   "source": [
    "# 14. Create a numpy array with numbers from 1 to 10, in descending order.\n",
    "\n",
    "import numpy as np\n",
    "des_array = np.arange(10, 0, -1)\n",
    "print(des_array)"
   ]
  },
  {
   "cell_type": "code",
   "execution_count": 39,
   "id": "18eeb700",
   "metadata": {},
   "outputs": [
    {
     "name": "stdout",
     "output_type": "stream",
     "text": [
      "[[0 1 2]\n",
      " [3 4 5]\n",
      " [6 7 8]]\n"
     ]
    }
   ],
   "source": [
    "# 15. Create a 3*3 numpy matrix, filled with values ranging from 0 to 8\n",
    "\n",
    "import numpy as np\n",
    "matrix = np.arange(9).reshape(3, 3)\n",
    "print(matrix)"
   ]
  },
  {
   "cell_type": "code",
   "execution_count": 43,
   "id": "ca233689",
   "metadata": {},
   "outputs": [
    {
     "name": "stdout",
     "output_type": "stream",
     "text": [
      "First Element = 1\n"
     ]
    }
   ],
   "source": [
    "#Array indexation\n",
    "# 1. Given the X numpy array, show it's first element\n",
    "\n",
    "import numpy as np\n",
    "\n",
    "X = np.array([1, 2, 3, 4, 5])\n",
    "first_element = X[0]\n",
    "print(\"First Element =\",first_element)"
   ]
  },
  {
   "cell_type": "code",
   "execution_count": 42,
   "id": "8e3c4b06",
   "metadata": {},
   "outputs": [
    {
     "name": "stdout",
     "output_type": "stream",
     "text": [
      "Last Element = 5\n"
     ]
    }
   ],
   "source": [
    "# 2. Given the X numpy array, show it's last element\n",
    "\n",
    "import numpy as np\n",
    "x = np.array([1, 2, 3, 4, 5])\n",
    "last_element = X[-1]\n",
    "print(\"Last Element =\",last_element)"
   ]
  },
  {
   "cell_type": "code",
   "execution_count": 45,
   "id": "8861d4c3",
   "metadata": {},
   "outputs": [
    {
     "name": "stdout",
     "output_type": "stream",
     "text": [
      "First Three Elements =  [1 2 3]\n"
     ]
    }
   ],
   "source": [
    "# 3. Given the X numpy array, show it's first three elements\n",
    "\n",
    "import numpy as np\n",
    "x = np.array([1, 2, 3, 4, 5])\n",
    "First_3_element = X[:3]\n",
    "print(\"First Three Elements = \",First_3_element)"
   ]
  },
  {
   "cell_type": "code",
   "execution_count": 47,
   "id": "e4f1022c",
   "metadata": {},
   "outputs": [
    {
     "name": "stdout",
     "output_type": "stream",
     "text": [
      "Middle Elements = [3 4]\n"
     ]
    }
   ],
   "source": [
    " # 4. Given the X numpy array, show all middle elements\n",
    "\n",
    "X = np.array([1, 2, 3, 4, 5, 6])\n",
    "length = len(X)\n",
    "if length % 2 == 0:\n",
    "    middle_indices = [length // 2 - 1, length // 2]\n",
    "else:\n",
    "    middle_indices = [length // 2]\n",
    "middle_elements = X[middle_indices]\n",
    "print(\"Middle Elements =\",middle_elements)"
   ]
  },
  {
   "cell_type": "code",
   "execution_count": 49,
   "id": "b389fbfd",
   "metadata": {},
   "outputs": [
    {
     "name": "stdout",
     "output_type": "stream",
     "text": [
      "Reverse Position: [6 5 4 3 2 1]\n"
     ]
    }
   ],
   "source": [
    "# 5. Given the X numpy array, show the elements in reverse position.\n",
    "\n",
    "import numpy as np\n",
    "X = np.array([1, 2, 3, 4, 5, 6])\n",
    "reverse_elements = X[::-1]\n",
    "print(\"Reverse Position:\",reverse_elements)"
   ]
  },
  {
   "cell_type": "code",
   "execution_count": 50,
   "id": "d040cb23",
   "metadata": {},
   "outputs": [
    {
     "name": "stdout",
     "output_type": "stream",
     "text": [
      "Odd Position Elements: [2 4 6]\n"
     ]
    }
   ],
   "source": [
    "# 6. Given the X numpy array, show the elements in an odd position.\n",
    "\n",
    "import numpy as np\n",
    "X = np.array([1, 2, 3, 4, 5, 6])\n",
    "odd_position_elements = X[1::2]\n",
    "print(\"Odd Position Elements:\",odd_position_elements)"
   ]
  },
  {
   "cell_type": "code",
   "execution_count": 51,
   "id": "cabcdd57",
   "metadata": {},
   "outputs": [
    {
     "name": "stdout",
     "output_type": "stream",
     "text": [
      "First Row= [1 2 3]\n"
     ]
    }
   ],
   "source": [
    "# 7. Given the X numpy matrix, show the first row elements.\n",
    "\n",
    "import numpy as np\n",
    "X = np.array([[1, 2, 3],\n",
    "              [4, 5, 6],\n",
    "              [7, 8, 9]])\n",
    "\n",
    "first_row_elements = X[0, :]\n",
    "print(\"First Row=\",first_row_elements)"
   ]
  },
  {
   "cell_type": "code",
   "execution_count": 52,
   "id": "32ba515b",
   "metadata": {},
   "outputs": [
    {
     "name": "stdout",
     "output_type": "stream",
     "text": [
      "Last Row= [7 8 9]\n"
     ]
    }
   ],
   "source": [
    "# 8. Given the X numpy matrix, show the last row elements.\n",
    "\n",
    "import numpy as np\n",
    "X = np.array([[1, 2, 3],\n",
    "              [4, 5, 6],\n",
    "              [7, 8, 9]])\n",
    "\n",
    "last_row_elements = X[-1, :]\n",
    "print(\"Last Row=\",last_row_elements)"
   ]
  },
  {
   "cell_type": "code",
   "execution_count": 53,
   "id": "cf68ef85",
   "metadata": {},
   "outputs": [
    {
     "name": "stdout",
     "output_type": "stream",
     "text": [
      "First Element= 1\n"
     ]
    }
   ],
   "source": [
    "# 9. Given the X numpy matrix, show the first element on first row\n",
    "\n",
    "import numpy as np\n",
    "X = np.array([[1, 2, 3],\n",
    "              [4, 5, 6],\n",
    "              [7, 8, 9]])\n",
    "\n",
    "first_elements = X[0, 0]\n",
    "print(\"First Element=\",first_elements)\n"
   ]
  },
  {
   "cell_type": "code",
   "execution_count": 57,
   "id": "d8dfe135",
   "metadata": {},
   "outputs": [
    {
     "name": "stdout",
     "output_type": "stream",
     "text": [
      "Last Element= 9\n"
     ]
    }
   ],
   "source": [
    "# 10. Given the X numpy matrix, show the last element on last row.\n",
    "\n",
    "import numpy as np\n",
    "X = np.array([[1, 2, 3],\n",
    "              [4, 5, 6],\n",
    "              [7, 8, 9]])\n",
    "\n",
    "last_elements = X[2, 2]\n",
    "print(\"Last Element=\",last_elements)\n"
   ]
  },
  {
   "cell_type": "code",
   "execution_count": 62,
   "id": "02a82b83",
   "metadata": {},
   "outputs": [
    {
     "name": "stdout",
     "output_type": "stream",
     "text": [
      "First Two Elements= [[1 2]\n",
      " [4 5]]\n"
     ]
    }
   ],
   "source": [
    "# 11. Given the X numpy matrix, show the first two elements on the first two rows.\n",
    "\n",
    "import numpy as np\n",
    "X = np.array([[1, 2, 3],\n",
    "              [4, 5, 6],\n",
    "              [7, 8, 9]])\n",
    "\n",
    "First_2_elements = X[:2, :2]\n",
    "print(\"First Two Elements=\",First_2_elements)\n",
    "\n"
   ]
  },
  {
   "cell_type": "code",
   "execution_count": 64,
   "id": "d046ace2",
   "metadata": {},
   "outputs": [
    {
     "name": "stdout",
     "output_type": "stream",
     "text": [
      "First Two Elements= [[5 6]\n",
      " [8 9]]\n"
     ]
    }
   ],
   "source": [
    "# 12. Given the X numpy matrix, show the last two elements on the last two rows\n",
    "\n",
    "import numpy as np\n",
    "X = np.array([[1, 2, 3],\n",
    "              [4, 5, 6],\n",
    "              [7, 8, 9]])\n",
    "\n",
    "First_2_elements = X[-2:, -2:]\n",
    "print(\"First Two Elements=\",First_2_elements)\n"
   ]
  },
  {
   "cell_type": "code",
   "execution_count": 66,
   "id": "b776b284",
   "metadata": {},
   "outputs": [
    {
     "name": "stdout",
     "output_type": "stream",
     "text": [
      "Original Integer Array: [1 2 3 4 5]\n",
      "\n",
      "Converted Float Array: [1. 2. 3. 4. 5.]\n"
     ]
    }
   ],
   "source": [
    "#Array manipulation\n",
    "#1. Convert the given integer numpy array to float\n",
    "\n",
    "import numpy as np\n",
    "X_integer = np.array([1, 2, 3, 4, 5])\n",
    "X_float = X_integer.astype(float)\n",
    "print(\"Original Integer Array:\",(X_integer))\n",
    "print(\"\\nConverted Float Array:\",(X_float))\n",
    "\n"
   ]
  },
  {
   "cell_type": "code",
   "execution_count": 67,
   "id": "4178a263",
   "metadata": {},
   "outputs": [
    {
     "name": "stdout",
     "output_type": "stream",
     "text": [
      "Original Array: [1 2 3 4 5]\n",
      "\n",
      "Reversed Array: [5 4 3 2 1]\n"
     ]
    }
   ],
   "source": [
    "# 2. Reverse the given numpy array (first element becomes last)\n",
    "\n",
    "import numpy as np\n",
    "X = np.array([1, 2, 3, 4, 5])\n",
    "X_reversed = X[::-1]\n",
    "print(\"Original Array:\",(X))\n",
    "print(\"\\nReversed Array:\",(X_reversed))\n"
   ]
  },
  {
   "cell_type": "code",
   "execution_count": 68,
   "id": "9a717ed9",
   "metadata": {},
   "outputs": [
    {
     "name": "stdout",
     "output_type": "stream",
     "text": [
      "Updated Array: [2 4 6 7 1]\n"
     ]
    }
   ],
   "source": [
    "# 3. Given the X numpy array, set the fifth element equal to 1\n",
    "\n",
    "import numpy as np\n",
    "X = np.array([2, 4, 6, 7, 3])\n",
    "X[4] = 1\n",
    "print(\"Updated Array:\",(X))\n"
   ]
  },
  {
   "cell_type": "code",
   "execution_count": 70,
   "id": "347a77b0",
   "metadata": {},
   "outputs": [
    {
     "name": "stdout",
     "output_type": "stream",
     "text": [
      "Updated [[ 9 10 11]\n",
      " [ 4  5  6]\n",
      " [ 7  8  9]]\n"
     ]
    }
   ],
   "source": [
    "# 4. Given the X numpy matrix, change the last row with all 1\n",
    "\n",
    "import numpy as np\n",
    "X = np.array([[1,2,3],\n",
    "             [4,5,6],\n",
    "            [7,8,9]])\n",
    "X[0] = [9,10,11]\n",
    "print(\"Updated\",X)"
   ]
  },
  {
   "cell_type": "code",
   "execution_count": 71,
   "id": "afd8bfaa",
   "metadata": {},
   "outputs": [
    {
     "name": "stdout",
     "output_type": "stream",
     "text": [
      "Updated [[5 5 5]\n",
      " [5 5 5]\n",
      " [5 5 5]]\n"
     ]
    }
   ],
   "source": [
    "# 5. Given the X numpy matrix, add 5 to every element\n",
    "\n",
    "import numpy as np\n",
    "X = np.array([[1,2,3],\n",
    "             [4,5,6],\n",
    "            [7,8,9]])\n",
    "X[:,:] = [5]\n",
    "print(\"Updated\",X)\n"
   ]
  },
  {
   "cell_type": "code",
   "execution_count": null,
   "id": "370a3f76",
   "metadata": {},
   "outputs": [],
   "source": []
  }
 ],
 "metadata": {
  "kernelspec": {
   "display_name": "Python 3 (ipykernel)",
   "language": "python",
   "name": "python3"
  },
  "language_info": {
   "codemirror_mode": {
    "name": "ipython",
    "version": 3
   },
   "file_extension": ".py",
   "mimetype": "text/x-python",
   "name": "python",
   "nbconvert_exporter": "python",
   "pygments_lexer": "ipython3",
   "version": "3.11.5"
  }
 },
 "nbformat": 4,
 "nbformat_minor": 5
}
